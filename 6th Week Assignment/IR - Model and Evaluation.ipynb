{
 "cells": [
  {
   "cell_type": "markdown",
   "id": "74eb7788",
   "metadata": {},
   "source": [
    "### Libraries\n",
    "There are NO external libraries for IR"
   ]
  },
  {
   "cell_type": "code",
   "execution_count": 1,
   "id": "ba2ad378",
   "metadata": {},
   "outputs": [],
   "source": [
    "# for handling dataframe\n",
    "import ast\n",
    "import pandas as pd\n",
    "\n",
    "# for checking loops\n",
    "from tqdm.notebook import tqdm\n",
    "\n",
    "# for computing array\n",
    "import numpy as np\n",
    "\n",
    "# for computing tf-idf\n",
    "import math\n",
    "import warnings\n",
    "warnings.filterwarnings(action='ignore')\n",
    "\n",
    "# for visualizing result\n",
    "import matplotlib.pyplot as plt\n",
    "\n",
    "# for building assumptions\n",
    "import random"
   ]
  },
  {
   "cell_type": "markdown",
   "id": "5bd64c49",
   "metadata": {},
   "source": [
    "### Load Files\n",
    "Movie scripts used in previous assignment"
   ]
  },
  {
   "cell_type": "code",
   "execution_count": 2,
   "id": "bfead1b7",
   "metadata": {},
   "outputs": [
    {
     "data": {
      "text/html": [
       "<div>\n",
       "<style scoped>\n",
       "    .dataframe tbody tr th:only-of-type {\n",
       "        vertical-align: middle;\n",
       "    }\n",
       "\n",
       "    .dataframe tbody tr th {\n",
       "        vertical-align: top;\n",
       "    }\n",
       "\n",
       "    .dataframe thead th {\n",
       "        text-align: right;\n",
       "    }\n",
       "</style>\n",
       "<table border=\"1\" class=\"dataframe\">\n",
       "  <thead>\n",
       "    <tr style=\"text-align: right;\">\n",
       "      <th></th>\n",
       "      <th>drama</th>\n",
       "      <th>romance</th>\n",
       "      <th>comedy</th>\n",
       "      <th>thriller</th>\n",
       "      <th>crime</th>\n",
       "    </tr>\n",
       "  </thead>\n",
       "  <tbody>\n",
       "    <tr>\n",
       "      <th>0</th>\n",
       "      <td>12 and Holding</td>\n",
       "      <td>10 Things I Hate About You</td>\n",
       "      <td>10 Things I Hate About You</td>\n",
       "      <td>12 Monkeys</td>\n",
       "      <td>15 Minutes</td>\n",
       "    </tr>\n",
       "    <tr>\n",
       "      <th>1</th>\n",
       "      <td>12 Monkeys</td>\n",
       "      <td>17 Again</td>\n",
       "      <td>12</td>\n",
       "      <td>127 Hours</td>\n",
       "      <td>44 Inch Chest</td>\n",
       "    </tr>\n",
       "    <tr>\n",
       "      <th>2</th>\n",
       "      <td>12 Years a Slave</td>\n",
       "      <td>500 Days of Summer</td>\n",
       "      <td>17 Again</td>\n",
       "      <td>15 Minutes</td>\n",
       "      <td>A Few Good Men</td>\n",
       "    </tr>\n",
       "    <tr>\n",
       "      <th>3</th>\n",
       "      <td>127 Hours</td>\n",
       "      <td>Adjustment Bureau, The</td>\n",
       "      <td>30 Minutes or Less</td>\n",
       "      <td>2012</td>\n",
       "      <td>A Most Violent Year</td>\n",
       "    </tr>\n",
       "  </tbody>\n",
       "</table>\n",
       "</div>"
      ],
      "text/plain": [
       "              drama                     romance                      comedy  \\\n",
       "0    12 and Holding  10 Things I Hate About You  10 Things I Hate About You   \n",
       "1        12 Monkeys                    17 Again                          12   \n",
       "2  12 Years a Slave          500 Days of Summer                    17 Again   \n",
       "3         127 Hours      Adjustment Bureau, The          30 Minutes or Less   \n",
       "\n",
       "     thriller                crime  \n",
       "0  12 Monkeys           15 Minutes  \n",
       "1   127 Hours        44 Inch Chest  \n",
       "2  15 Minutes       A Few Good Men  \n",
       "3        2012  A Most Violent Year  "
      ]
     },
     "execution_count": 2,
     "metadata": {},
     "output_type": "execute_result"
    }
   ],
   "source": [
    "movie_title_df = pd.read_csv('./imsdb_5categories_title.csv')\n",
    "movie_title_df.head(4)"
   ]
  },
  {
   "cell_type": "code",
   "execution_count": 3,
   "id": "d05d6ff3",
   "metadata": {},
   "outputs": [
    {
     "data": {
      "text/html": [
       "<div>\n",
       "<style scoped>\n",
       "    .dataframe tbody tr th:only-of-type {\n",
       "        vertical-align: middle;\n",
       "    }\n",
       "\n",
       "    .dataframe tbody tr th {\n",
       "        vertical-align: top;\n",
       "    }\n",
       "\n",
       "    .dataframe thead th {\n",
       "        text-align: right;\n",
       "    }\n",
       "</style>\n",
       "<table border=\"1\" class=\"dataframe\">\n",
       "  <thead>\n",
       "    <tr style=\"text-align: right;\">\n",
       "      <th></th>\n",
       "      <th>drama</th>\n",
       "      <th>romance</th>\n",
       "      <th>comedy</th>\n",
       "      <th>thriller</th>\n",
       "      <th>crime</th>\n",
       "    </tr>\n",
       "  </thead>\n",
       "  <tbody>\n",
       "    <tr>\n",
       "      <th>0</th>\n",
       "      <td>['12', 'holding', 'written', 'anthony', 's', '...</td>\n",
       "      <td>['ten', 'things', 'hate', 'written', 'karen', ...</td>\n",
       "      <td>['ten', 'things', 'hate', 'written', 'karen', ...</td>\n",
       "      <td>['twelve', 'monkeys', 'original', 'screenplay'...</td>\n",
       "      <td>['fade', 'words', 'czech', 'airline', 'panning...</td>\n",
       "    </tr>\n",
       "    <tr>\n",
       "      <th>1</th>\n",
       "      <td>['twelve', 'monkeys', 'original', 'screenplay'...</td>\n",
       "      <td>['17', 'again', 'written', 'jason', 'filardi',...</td>\n",
       "      <td>['cut', 'blacktitle', 'finexterior', 'la', 'da...</td>\n",
       "      <td>['127', 'hours', 'written', 'simon', 'beaufoy'...</td>\n",
       "      <td>['44', 'inch', 'chest', 'written', 'louis', 'm...</td>\n",
       "    </tr>\n",
       "    <tr>\n",
       "      <th>2</th>\n",
       "      <td>['12', 'years', 'slave', 'written', 'john', 'r...</td>\n",
       "      <td>['500', 'days', 'summer', 'written', 'scott', ...</td>\n",
       "      <td>['17', 'again', 'written', 'jason', 'filardi',...</td>\n",
       "      <td>['fade', 'words', 'czech', 'airline', 'panning...</td>\n",
       "      <td>['few', 'good', 'men', 'written', 'aaron', 'so...</td>\n",
       "    </tr>\n",
       "    <tr>\n",
       "      <th>3</th>\n",
       "      <td>['127', 'hours', 'written', 'simon', 'beaufoy'...</td>\n",
       "      <td>['adjustment', 'bureau', 'written', 'george', ...</td>\n",
       "      <td>['30', 'minutes', 'less', 'written', 'michael'...</td>\n",
       "      <td>['2012', 'written', 'roland', 'emmerich', 'har...</td>\n",
       "      <td>['violent', 'year', 'written', 'jc', 'chandor'...</td>\n",
       "    </tr>\n",
       "  </tbody>\n",
       "</table>\n",
       "</div>"
      ],
      "text/plain": [
       "                                               drama  \\\n",
       "0  ['12', 'holding', 'written', 'anthony', 's', '...   \n",
       "1  ['twelve', 'monkeys', 'original', 'screenplay'...   \n",
       "2  ['12', 'years', 'slave', 'written', 'john', 'r...   \n",
       "3  ['127', 'hours', 'written', 'simon', 'beaufoy'...   \n",
       "\n",
       "                                             romance  \\\n",
       "0  ['ten', 'things', 'hate', 'written', 'karen', ...   \n",
       "1  ['17', 'again', 'written', 'jason', 'filardi',...   \n",
       "2  ['500', 'days', 'summer', 'written', 'scott', ...   \n",
       "3  ['adjustment', 'bureau', 'written', 'george', ...   \n",
       "\n",
       "                                              comedy  \\\n",
       "0  ['ten', 'things', 'hate', 'written', 'karen', ...   \n",
       "1  ['cut', 'blacktitle', 'finexterior', 'la', 'da...   \n",
       "2  ['17', 'again', 'written', 'jason', 'filardi',...   \n",
       "3  ['30', 'minutes', 'less', 'written', 'michael'...   \n",
       "\n",
       "                                            thriller  \\\n",
       "0  ['twelve', 'monkeys', 'original', 'screenplay'...   \n",
       "1  ['127', 'hours', 'written', 'simon', 'beaufoy'...   \n",
       "2  ['fade', 'words', 'czech', 'airline', 'panning...   \n",
       "3  ['2012', 'written', 'roland', 'emmerich', 'har...   \n",
       "\n",
       "                                               crime  \n",
       "0  ['fade', 'words', 'czech', 'airline', 'panning...  \n",
       "1  ['44', 'inch', 'chest', 'written', 'louis', 'm...  \n",
       "2  ['few', 'good', 'men', 'written', 'aaron', 'so...  \n",
       "3  ['violent', 'year', 'written', 'jc', 'chandor'...  "
      ]
     },
     "execution_count": 3,
     "metadata": {},
     "output_type": "execute_result"
    }
   ],
   "source": [
    "movie_script_df = pd.read_csv('./imsdb_5categories_token.csv')\n",
    "movie_script_df.head(4)"
   ]
  },
  {
   "cell_type": "code",
   "execution_count": 4,
   "id": "da88e28c",
   "metadata": {},
   "outputs": [
    {
     "data": {
      "text/plain": [
       "'10 Things I Hate About You'"
      ]
     },
     "execution_count": 4,
     "metadata": {},
     "output_type": "execute_result"
    }
   ],
   "source": [
    "def find_movie_name(genre, idx):\n",
    "    return movie_title_df[genre][idx]\n",
    "\n",
    "\n",
    "# find movie name by genre, idx\n",
    "find_movie_name('romance', 0)"
   ]
  },
  {
   "cell_type": "code",
   "execution_count": 5,
   "id": "25b0a443",
   "metadata": {},
   "outputs": [
    {
     "data": {
      "application/vnd.jupyter.widget-view+json": {
       "model_id": "b6b08d6c8413466681618cd5ca73efe1",
       "version_major": 2,
       "version_minor": 0
      },
      "text/plain": [
       "  0%|          | 0/637 [00:00<?, ?it/s]"
      ]
     },
     "metadata": {},
     "output_type": "display_data"
    },
    {
     "data": {
      "application/vnd.jupyter.widget-view+json": {
       "model_id": "312b24d6fbb14c86a9ce4cd2e7dc36ae",
       "version_major": 2,
       "version_minor": 0
      },
      "text/plain": [
       "  0%|          | 0/637 [00:00<?, ?it/s]"
      ]
     },
     "metadata": {},
     "output_type": "display_data"
    },
    {
     "data": {
      "application/vnd.jupyter.widget-view+json": {
       "model_id": "4c8660c74b7244969b46257098008d3d",
       "version_major": 2,
       "version_minor": 0
      },
      "text/plain": [
       "  0%|          | 0/637 [00:00<?, ?it/s]"
      ]
     },
     "metadata": {},
     "output_type": "display_data"
    },
    {
     "data": {
      "application/vnd.jupyter.widget-view+json": {
       "model_id": "5e2c62e4216049848ef23aaa0e3f8043",
       "version_major": 2,
       "version_minor": 0
      },
      "text/plain": [
       "  0%|          | 0/637 [00:00<?, ?it/s]"
      ]
     },
     "metadata": {},
     "output_type": "display_data"
    },
    {
     "data": {
      "application/vnd.jupyter.widget-view+json": {
       "model_id": "15d6e8f4cf224bb29b7d963934b05423",
       "version_major": 2,
       "version_minor": 0
      },
      "text/plain": [
       "  0%|          | 0/637 [00:00<?, ?it/s]"
      ]
     },
     "metadata": {},
     "output_type": "display_data"
    }
   ],
   "source": [
    "def str2list(column):\n",
    "    result = []\n",
    "    for i in tqdm(range(len(column))):\n",
    "        str_form = column[i]\n",
    "        if pd.isnull(str_form): continue\n",
    "        list_form = ast.literal_eval(str_form)\n",
    "        result.append(list_form)\n",
    "    return result\n",
    "\n",
    "\n",
    "# convert the text format of dataframe to a list format\n",
    "drama_token_list    = str2list(movie_script_df['drama'])\n",
    "romance_token_list  = str2list(movie_script_df['romance'])\n",
    "comedy_token_list   = str2list(movie_script_df['comedy'])\n",
    "thriller_token_list = str2list(movie_script_df['thriller'])\n",
    "crime_token_list    = str2list(movie_script_df['crime'])"
   ]
  },
  {
   "cell_type": "markdown",
   "id": "631fc6d0",
   "metadata": {},
   "source": [
    "### Basic Settings"
   ]
  },
  {
   "cell_type": "code",
   "execution_count": 6,
   "id": "ee77d76d",
   "metadata": {},
   "outputs": [],
   "source": [
    "# define stopwords\n",
    "# reference: https://www.textfixer.com/tutorials/common-english-words.txt\n",
    "with open('./eng_stopwords.txt') as file:\n",
    "    text = file.read()\n",
    "stopwords = text.split(',')"
   ]
  },
  {
   "cell_type": "code",
   "execution_count": 7,
   "id": "cbf94763",
   "metadata": {},
   "outputs": [],
   "source": [
    "def proprocess_query(query):\n",
    "    # remove special characters\n",
    "    special_characters = ['!', '?', '\"','#','$','%','&','(',')','*','+',\n",
    "                          '/',':',';','<','=','>','@','[','\\\\',']','^',\n",
    "                          '`','{','|','}','~','\\t', '\\n', '-', ',', '.']\n",
    "    for i in range(len(query)):\n",
    "        for ch in special_characters:\n",
    "            query = query.replace(ch, '')\n",
    "    \n",
    "    # lower case and strip\n",
    "    query = query.lower()\n",
    "    query = query.strip()\n",
    "    \n",
    "    # tokenization and removing stopwords\n",
    "    word_list = query.split()\n",
    "    for word in word_list:\n",
    "        if word in stopwords:\n",
    "            while word in word_list: word_list.remove(word)\n",
    "    return word_list"
   ]
  },
  {
   "cell_type": "markdown",
   "id": "b8be4a45",
   "metadata": {},
   "source": [
    "### Boolean model"
   ]
  },
  {
   "cell_type": "code",
   "execution_count": 8,
   "id": "3087390c",
   "metadata": {},
   "outputs": [
    {
     "data": {
      "application/vnd.jupyter.widget-view+json": {
       "model_id": "760d67c7e1624fc8a2f7d3bb58087929",
       "version_major": 2,
       "version_minor": 0
      },
      "text/plain": [
       "  0%|          | 0/637 [00:00<?, ?it/s]"
      ]
     },
     "metadata": {},
     "output_type": "display_data"
    },
    {
     "data": {
      "application/vnd.jupyter.widget-view+json": {
       "model_id": "da3cbf3798074383b1c5cddf34ae920c",
       "version_major": 2,
       "version_minor": 0
      },
      "text/plain": [
       "  0%|          | 0/207 [00:00<?, ?it/s]"
      ]
     },
     "metadata": {},
     "output_type": "display_data"
    },
    {
     "data": {
      "application/vnd.jupyter.widget-view+json": {
       "model_id": "3aa574a9a93347db9eed052d3e30afca",
       "version_major": 2,
       "version_minor": 0
      },
      "text/plain": [
       "  0%|          | 0/372 [00:00<?, ?it/s]"
      ]
     },
     "metadata": {},
     "output_type": "display_data"
    },
    {
     "data": {
      "application/vnd.jupyter.widget-view+json": {
       "model_id": "fa22d5a03fce4300955d0c7c146718e9",
       "version_major": 2,
       "version_minor": 0
      },
      "text/plain": [
       "  0%|          | 0/389 [00:00<?, ?it/s]"
      ]
     },
     "metadata": {},
     "output_type": "display_data"
    },
    {
     "data": {
      "application/vnd.jupyter.widget-view+json": {
       "model_id": "a19da667b9a44d8b95b903f31f540128",
       "version_major": 2,
       "version_minor": 0
      },
      "text/plain": [
       "  0%|          | 0/218 [00:00<?, ?it/s]"
      ]
     },
     "metadata": {},
     "output_type": "display_data"
    }
   ],
   "source": [
    "def make_inverted_index(token_list):\n",
    "    indexing_terms = {}\n",
    "    postings_lists = {}\n",
    "    for i in tqdm(range(len(token_list))):\n",
    "        for word in token_list[i]:\n",
    "            \n",
    "            if word not in indexing_terms:\n",
    "                indexing_terms[word] = 1\n",
    "            if word in indexing_terms:\n",
    "                indexing_terms[word] += 1\n",
    "            \n",
    "            if word not in postings_lists:\n",
    "                postings_lists[word] = []\n",
    "            if word in postings_lists:\n",
    "                if i in postings_lists[word]: continue\n",
    "                else: postings_lists[word].append(i)\n",
    "    \n",
    "    return indexing_terms, postings_lists\n",
    "\n",
    "\n",
    "# after making indexing terms and postings lists\n",
    "drama_indexing_terms, drama_postings_lists       = make_inverted_index(drama_token_list)\n",
    "romance_indexing_terms, romance_postings_lists   = make_inverted_index(romance_token_list)\n",
    "comedy_indexing_terms, comedy_postings_lists     = make_inverted_index(comedy_token_list)\n",
    "thriller_indexing_terms, thriller_postings_lists = make_inverted_index(thriller_token_list)\n",
    "crime_indexing_terms, crime_postings_lists       = make_inverted_index(crime_token_list)"
   ]
  },
  {
   "cell_type": "code",
   "execution_count": 9,
   "id": "d38b06b4",
   "metadata": {},
   "outputs": [
    {
     "name": "stdout",
     "output_type": "stream",
     "text": [
      " Drama    category script counts: 637\n",
      " Romance  category script counts: 207\n",
      " Comedy   category script counts: 372\n",
      " Thriller category script counts: 389\n",
      " Crime    category script counts: 218 \n",
      "\n",
      " Drama    category word set size: 306613\n",
      " Romance  category word set size: 126011\n",
      " Comedy   category word set size: 192479\n",
      " Thriller category word set size: 201335\n",
      " Crime    category word set size: 146753\n"
     ]
    }
   ],
   "source": [
    "# define term list\n",
    "drama_terms    = list(drama_indexing_terms.keys())\n",
    "romance_terms  = list(romance_indexing_terms.keys())\n",
    "comedy_terms   = list(comedy_indexing_terms.keys())\n",
    "thriller_terms = list(thriller_indexing_terms.keys())\n",
    "crime_terms    = list(crime_indexing_terms.keys())\n",
    "\n",
    "\n",
    "# define document-term matrix's rows, columns\n",
    "drama_rows    = len(drama_token_list)\n",
    "romance_rows  = len(romance_token_list)\n",
    "comedy_rows   = len(comedy_token_list)\n",
    "thriller_rows = len(thriller_token_list)\n",
    "crime_rows    = len(crime_token_list)\n",
    "\n",
    "print(' Drama    category script counts:', drama_rows)\n",
    "print(' Romance  category script counts:', romance_rows)\n",
    "print(' Comedy   category script counts:', comedy_rows)\n",
    "print(' Thriller category script counts:', thriller_rows)\n",
    "print(' Crime    category script counts:', crime_rows, '\\n')\n",
    "\n",
    "drama_columns    = len(drama_terms)\n",
    "romance_columns  = len(romance_terms)\n",
    "comedy_columns   = len(comedy_terms)\n",
    "thriller_columns = len(thriller_terms)\n",
    "crime_columns    = len(crime_terms)\n",
    "\n",
    "print(' Drama    category word set size:', drama_columns)\n",
    "print(' Romance  category word set size:', romance_columns)\n",
    "print(' Comedy   category word set size:', comedy_columns)\n",
    "print(' Thriller category word set size:', thriller_columns)\n",
    "print(' Crime    category word set size:', crime_columns)"
   ]
  },
  {
   "cell_type": "code",
   "execution_count": 10,
   "id": "9316193e",
   "metadata": {},
   "outputs": [
    {
     "data": {
      "application/vnd.jupyter.widget-view+json": {
       "model_id": "2f6a404133f7417284c33367d1c7a699",
       "version_major": 2,
       "version_minor": 0
      },
      "text/plain": [
       "  0%|          | 0/306613 [00:00<?, ?it/s]"
      ]
     },
     "metadata": {},
     "output_type": "display_data"
    },
    {
     "data": {
      "application/vnd.jupyter.widget-view+json": {
       "model_id": "6c60e251993747749274cc77f2cf1327",
       "version_major": 2,
       "version_minor": 0
      },
      "text/plain": [
       "  0%|          | 0/126011 [00:00<?, ?it/s]"
      ]
     },
     "metadata": {},
     "output_type": "display_data"
    },
    {
     "data": {
      "application/vnd.jupyter.widget-view+json": {
       "model_id": "adc4cb515f944bda9be915bb68635288",
       "version_major": 2,
       "version_minor": 0
      },
      "text/plain": [
       "  0%|          | 0/192479 [00:00<?, ?it/s]"
      ]
     },
     "metadata": {},
     "output_type": "display_data"
    },
    {
     "data": {
      "application/vnd.jupyter.widget-view+json": {
       "model_id": "83d894855de9403ab6225c96ef3c52c9",
       "version_major": 2,
       "version_minor": 0
      },
      "text/plain": [
       "  0%|          | 0/201335 [00:00<?, ?it/s]"
      ]
     },
     "metadata": {},
     "output_type": "display_data"
    },
    {
     "data": {
      "application/vnd.jupyter.widget-view+json": {
       "model_id": "bd42c2dff74c43cd8477ff5f27e0fe8b",
       "version_major": 2,
       "version_minor": 0
      },
      "text/plain": [
       "  0%|          | 0/146753 [00:00<?, ?it/s]"
      ]
     },
     "metadata": {},
     "output_type": "display_data"
    },
    {
     "name": "stdout",
     "output_type": "stream",
     "text": [
      " Drama    category document-term matrix shape: 637 306613\n",
      " Romance  category document-term matrix shape: 207 126011\n",
      " Comedy   category document-term matrix shape: 372 192479\n",
      " Thriller category document-term matrix shape: 389 201335\n",
      " Crime    category document-term matrix shape: 218 146753\n"
     ]
    }
   ],
   "source": [
    "def make_document_term_matrix(rows, columns, terms, postings_lists):\n",
    "    '''\n",
    "    parameters\n",
    "        rows          : number of documents in a category\n",
    "        columns       : number of terms in a category\n",
    "        terms         : words appeared in a category at least once\n",
    "        postings_lists: created in the last assignment\n",
    "    '''    \n",
    "    document_term_matrix = [[0 for i in range(columns)] for j in range(rows)]\n",
    "    for i in tqdm(range(columns)):   # iteration: number of words\n",
    "        for j in range(rows):        # iteration: number of docs\n",
    "            if j in postings_lists[terms[i]]:\n",
    "                document_term_matrix[j][i] = 1\n",
    "            else:\n",
    "                pass\n",
    "    return document_term_matrix\n",
    "\n",
    "\n",
    "# after making document-term matrix\n",
    "drama_dtm    = make_document_term_matrix(drama_rows, drama_columns, drama_terms, drama_postings_lists)\n",
    "romance_dtm  = make_document_term_matrix(romance_rows, romance_columns, romance_terms, romance_postings_lists)\n",
    "comedy_dtm   = make_document_term_matrix(comedy_rows, comedy_columns, comedy_terms, comedy_postings_lists)\n",
    "thriller_dtm = make_document_term_matrix(thriller_rows, thriller_columns, thriller_terms, thriller_postings_lists)\n",
    "crime_dtm    = make_document_term_matrix(crime_rows, crime_columns, crime_terms, crime_postings_lists)\n",
    "\n",
    "print(' Drama    category document-term matrix shape:', len(drama_dtm), len(drama_dtm[0]))\n",
    "print(' Romance  category document-term matrix shape:', len(romance_dtm), len(romance_dtm[0]))\n",
    "print(' Comedy   category document-term matrix shape:', len(comedy_dtm), len(comedy_dtm[0]))\n",
    "print(' Thriller category document-term matrix shape:', len(thriller_dtm), len(thriller_dtm[0]))\n",
    "print(' Crime    category document-term matrix shape:', len(crime_dtm), len(crime_dtm[0]))"
   ]
  },
  {
   "cell_type": "code",
   "execution_count": 11,
   "id": "0c673f58",
   "metadata": {},
   "outputs": [],
   "source": [
    "def make_boolean_query_vector(query, terms):\n",
    "    '''\n",
    "    parameters\n",
    "        query: any input text from user\n",
    "        terms: set of words used to make query vector\n",
    "    '''\n",
    "    # preprocessing texts\n",
    "    word_list = proprocess_query(query)\n",
    "    \n",
    "    # making boolean query vector\n",
    "    columns = len(terms)\n",
    "    query_vec = np.zeros(columns)\n",
    "    for i in range(columns):\n",
    "        if terms[i] in word_list:\n",
    "            query_vec[i] = 1\n",
    "        else:\n",
    "            query_vec[i] = 0\n",
    "    return list(query_vec)"
   ]
  },
  {
   "cell_type": "code",
   "execution_count": 12,
   "id": "14416463",
   "metadata": {},
   "outputs": [],
   "source": [
    "def match_doc_and_query_byboolean(genre, dtm, rows, query, terms):\n",
    "    '''\n",
    "    parameters\n",
    "        genre: one of the five categories\n",
    "        dtm  : document-term matrix for each genre\n",
    "        rows : number of documents in a category\n",
    "        query: any input text from user\n",
    "        terms: set of words used to make query vector\n",
    "    '''\n",
    "    # get boolean query vector\n",
    "    query_vec = make_boolean_query_vector(query, terms)\n",
    "    exist_idx = [i for i in range(len(query_vec)) if query_vec[i] == 1.]\n",
    "    exist_num = len(exist_idx)\n",
    "    \n",
    "    # find documents that are most relevant to query\n",
    "    match_list = []\n",
    "    for i in range(rows):\n",
    "        current_doc = dtm[i][:]\n",
    "        match = 0\n",
    "        \n",
    "        for idx in exist_idx:\n",
    "            if current_doc[idx] == 1.:\n",
    "                match += 1\n",
    "        match_list.append(match)\n",
    "        \n",
    "    most_match = max(match_list)\n",
    "    matched_movie_list = []\n",
    "    for i in range(len(match_list)):\n",
    "        if match_list[i] >= most_match*0.95:\n",
    "            matched_movie = find_movie_name(genre, i)\n",
    "            print(f\" The related movie to your query in genre '{genre}' is '{matched_movie}'\")\n",
    "            matched_movie_list.append(matched_movie)\n",
    "    return match_list"
   ]
  },
  {
   "cell_type": "markdown",
   "id": "b46ad9d9",
   "metadata": {},
   "source": [
    "### Boolean model: Example"
   ]
  },
  {
   "cell_type": "code",
   "execution_count": 13,
   "id": "af3341a4",
   "metadata": {},
   "outputs": [
    {
     "name": "stdout",
     "output_type": "stream",
     "text": [
      " The related movie to your query in genre 'drama' is '12 and Holding'\n",
      " The related movie to your query in genre 'drama' is '187'\n",
      " The related movie to your query in genre 'drama' is 'Apt Pupil'\n",
      " The related movie to your query in genre 'drama' is 'Theory of Everything, The'\n",
      " The related movie to your query in genre 'drama' is 'Twin Peaks'\n"
     ]
    }
   ],
   "source": [
    "# 'Drama' category\n",
    "query = \"Please holding me tight.\\\n",
    "         Probably he's saying forever.\\\n",
    "         Discover my classroom and students.\\\n",
    "         They're continued in morning.\"\n",
    "\n",
    "matched_drama_movie_list = match_doc_and_query_byboolean('drama', drama_dtm, drama_rows, query, drama_terms)"
   ]
  },
  {
   "cell_type": "code",
   "execution_count": 14,
   "id": "adb38898",
   "metadata": {},
   "outputs": [
    {
     "name": "stdout",
     "output_type": "stream",
     "text": [
      " The related movie to your query in genre 'romance' is '10 Things I Hate About You'\n",
      " The related movie to your query in genre 'romance' is 'Autumn in New York'\n",
      " The related movie to your query in genre 'romance' is 'Heavenly Creatures'\n",
      " The related movie to your query in genre 'romance' is 'Jane Eyre'\n",
      " The related movie to your query in genre 'romance' is 'Marty'\n",
      " The related movie to your query in genre 'romance' is 'Out of Sight'\n",
      " The related movie to your query in genre 'romance' is 'Spanglish'\n"
     ]
    }
   ],
   "source": [
    "# 'Romance' category\n",
    "query = \"I love ten things that seen in November against hot summer.\\\n",
    "         They looks so beautiful, really joyful.\\\n",
    "         Imagine what's coming.\\\n",
    "         There's no time to block anything.\"\n",
    "\n",
    "matched_romance_movie_list = match_doc_and_query_byboolean('romance', romance_dtm, romance_rows, query, romance_terms)"
   ]
  },
  {
   "cell_type": "code",
   "execution_count": 15,
   "id": "b7bf2c58",
   "metadata": {},
   "outputs": [
    {
     "name": "stdout",
     "output_type": "stream",
     "text": [
      " The related movie to your query in genre 'comedy' is '10 Things I Hate About You'\n",
      " The related movie to your query in genre 'comedy' is 'Change-Up, The'\n",
      " The related movie to your query in genre 'comedy' is 'Man on the Moon'\n",
      " The related movie to your query in genre 'comedy' is 'Twins'\n"
     ]
    }
   ],
   "source": [
    "# 'Comedy' category\n",
    "query = \"Boys and girls are different.\\\n",
    "         They never work a lot.\\\n",
    "         Amazingly, ladies catch sunglasses and laugh.\\\n",
    "         There's some question about eating.\"\n",
    "\n",
    "matched_comedy_movie_list = match_doc_and_query_byboolean('comedy', comedy_dtm, comedy_rows, query, comedy_terms)"
   ]
  },
  {
   "cell_type": "code",
   "execution_count": 16,
   "id": "90159f90",
   "metadata": {},
   "outputs": [
    {
     "name": "stdout",
     "output_type": "stream",
     "text": [
      " The related movie to your query in genre 'thriller' is '12 Monkeys'\n"
     ]
    }
   ],
   "source": [
    "# 'Thriller' category\n",
    "query = \"Monkeys are inspired by strong people!\\\n",
    "         Newspapers mean breath carefully.\\\n",
    "         You'll play like lion.\\\n",
    "         There are choices.\"\n",
    "\n",
    "matched_thriller_movie_list = match_doc_and_query_byboolean('thriller', thriller_dtm, thriller_rows, query, thriller_terms)"
   ]
  },
  {
   "cell_type": "code",
   "execution_count": 17,
   "id": "46214321",
   "metadata": {},
   "outputs": [
    {
     "name": "stdout",
     "output_type": "stream",
     "text": [
      " The related movie to your query in genre 'crime' is '15 Minutes'\n",
      " The related movie to your query in genre 'crime' is 'American Gangster'\n"
     ]
    }
   ],
   "source": [
    "# 'Crime' category\n",
    "query = \"Money and bills are coming.\\\n",
    "         They're not outdated...\\\n",
    "         It's called America joke.\\\n",
    "         Not a joke, made by dirty story\"\n",
    "\n",
    "matched_crime_movie_list = match_doc_and_query_byboolean('crime', crime_dtm, crime_rows, query, crime_terms)"
   ]
  },
  {
   "cell_type": "markdown",
   "id": "dd6b4548",
   "metadata": {},
   "source": [
    "### Boolean model: Evaluation\n",
    "> The evaluation follows the *assumptions* below.\n",
    "1) *When selecting common elements between query vector and all document vectors, the largest number of common elements was called N.*   \n",
    "\n",
    "2) *In the above boolean model, only those with more than 0.95\\*N common elements between the query vector and document vector were RETRIEVED.*   \n",
    "\n",
    "3) *If there are 0.9\\*N common elements between query vector and document vector, they are assumed to be RELEVANT.*"
   ]
  },
  {
   "cell_type": "code",
   "execution_count": 18,
   "id": "4a9dd6c1",
   "metadata": {},
   "outputs": [],
   "source": [
    "def plot_evaluation(p1, r1, p2, r2, p3, r3, p4, r4, p5, r5, ver):\n",
    "    evaluate = [['drama', p1, r1],\n",
    "                ['romance', p2, r2],\n",
    "                ['comedy', p3, r3],\n",
    "                ['thriller', p4, r4],\n",
    "                ['crime', p5, r5]]\n",
    "    evaluate_df = pd.DataFrame(evaluate, columns=['genre', 'precision', 'recall'])\n",
    "    evaluate_df.plot(x='genre', y=['precision', 'recall'], kind='bar', figsize=(20,6))\n",
    "    plt.title(f'Evaluation: \"{ver}\"', size=20)\n",
    "    plt.xticks(size=15, rotation=45)\n",
    "    plt.legend(fontsize=15)"
   ]
  },
  {
   "cell_type": "code",
   "execution_count": 19,
   "id": "dc8a570d",
   "metadata": {},
   "outputs": [
    {
     "data": {
      "image/png": "[encoded data removed]",
      "text/plain": [
       "<Figure size 1440x432 with 1 Axes>"
      ]
     },
     "metadata": {
      "needs_background": "light"
     },
     "output_type": "display_data"
    }
   ],
   "source": [
    "def score_boolean_evaluation(match_list):\n",
    "    tp = 0     # retrieved - relevant\n",
    "    fp = 0     # retrieved - nonrelevant\n",
    "    fn = 0     # not retrieved - relevant\n",
    "    tn = 0     # not retrieved - nonrelevant\n",
    "    \n",
    "    most_match = max(match_list)\n",
    "    for i in range(len(match_list)):\n",
    "        if match_list[i] >= most_match*0.95:\n",
    "            tp += 1\n",
    "        elif (match_list[i] < most_match*0.95) and (match_list[i] >= most_match*0.9):\n",
    "            fn += 1\n",
    "        elif match_list[i] < most_match*0.9:\n",
    "            tn += 1\n",
    "        # there is NO case 'fp' according to the assumption\n",
    "        # because retrieved threshold is 0.95*N, while relevant threshold is 0.9*N\n",
    "        \n",
    "    precision = tp / (tp + fp)\n",
    "    recall    = tp / (tp + fn)\n",
    "    return precision, recall\n",
    "\n",
    "\n",
    "p1, r1 = score_boolean_evaluation(matched_drama_movie_list)\n",
    "p2, r2 = score_boolean_evaluation(matched_romance_movie_list)\n",
    "p3, r3 = score_boolean_evaluation(matched_comedy_movie_list)\n",
    "p4, r4 = score_boolean_evaluation(matched_thriller_movie_list)\n",
    "p5, r5 = score_boolean_evaluation(matched_crime_movie_list)\n",
    "plot_evaluation(p1, r1, p2, r2, p3, r3, p4, r4, p5, r5, 'Retrieved threshold=0.95*N, Relevant threshold=0.9*N')"
   ]
  },
  {
   "cell_type": "markdown",
   "id": "52c57a5e",
   "metadata": {},
   "source": [
    "### Vector space model"
   ]
  },
  {
   "cell_type": "code",
   "execution_count": 20,
   "id": "5f5d8755",
   "metadata": {},
   "outputs": [
    {
     "data": {
      "application/vnd.jupyter.widget-view+json": {
       "model_id": "f22d07a7b0a64a13bf3dea2c01b84fe0",
       "version_major": 2,
       "version_minor": 0
      },
      "text/plain": [
       "  0%|          | 0/637 [00:00<?, ?it/s]"
      ]
     },
     "metadata": {},
     "output_type": "display_data"
    },
    {
     "data": {
      "application/vnd.jupyter.widget-view+json": {
       "model_id": "054066fc1a484f289f8e1c2992c7399b",
       "version_major": 2,
       "version_minor": 0
      },
      "text/plain": [
       "  0%|          | 0/207 [00:00<?, ?it/s]"
      ]
     },
     "metadata": {},
     "output_type": "display_data"
    },
    {
     "data": {
      "application/vnd.jupyter.widget-view+json": {
       "model_id": "1bcfdc43a9554b36bd4a2a53420d28ab",
       "version_major": 2,
       "version_minor": 0
      },
      "text/plain": [
       "  0%|          | 0/372 [00:00<?, ?it/s]"
      ]
     },
     "metadata": {},
     "output_type": "display_data"
    },
    {
     "data": {
      "application/vnd.jupyter.widget-view+json": {
       "model_id": "7177c8b47abc4545aeb0979d747df516",
       "version_major": 2,
       "version_minor": 0
      },
      "text/plain": [
       "  0%|          | 0/389 [00:00<?, ?it/s]"
      ]
     },
     "metadata": {},
     "output_type": "display_data"
    },
    {
     "data": {
      "application/vnd.jupyter.widget-view+json": {
       "model_id": "2010126810f54c0eb991d0bfefbf4dd7",
       "version_major": 2,
       "version_minor": 0
      },
      "text/plain": [
       "  0%|          | 0/218 [00:00<?, ?it/s]"
      ]
     },
     "metadata": {},
     "output_type": "display_data"
    }
   ],
   "source": [
    "def make_term_frequency(token_list, terms):\n",
    "    '''\n",
    "    parameters\n",
    "        token_list : tokens in each script\n",
    "        terms      : words appeared in a category at least once\n",
    "    '''\n",
    "    rows    = len(token_list)\n",
    "    columns = len(terms)\n",
    "    \n",
    "    term_frequency = [[0 for i in range(columns)] for j in range(rows)]\n",
    "    for j in tqdm(range(rows)):\n",
    "        for token in token_list[j]:\n",
    "            i = terms.index(token)\n",
    "            term_frequency[j][i] += 1\n",
    "    return term_frequency\n",
    "\n",
    "\n",
    "# after making term-frequency matrix\n",
    "drama_tf    = make_term_frequency(drama_token_list, drama_terms)\n",
    "romance_tf  = make_term_frequency(romance_token_list, romance_terms)\n",
    "comedy_tf   = make_term_frequency(comedy_token_list, comedy_terms)\n",
    "thriller_tf = make_term_frequency(thriller_token_list, thriller_terms)\n",
    "crime_tf    = make_term_frequency(crime_token_list, crime_terms)"
   ]
  },
  {
   "cell_type": "code",
   "execution_count": 21,
   "id": "6a04d301",
   "metadata": {},
   "outputs": [
    {
     "data": {
      "application/vnd.jupyter.widget-view+json": {
       "model_id": "6f35c0d3d8c246e9a828f68fb04800cd",
       "version_major": 2,
       "version_minor": 0
      },
      "text/plain": [
       "  0%|          | 0/306613 [00:00<?, ?it/s]"
      ]
     },
     "metadata": {},
     "output_type": "display_data"
    },
    {
     "data": {
      "application/vnd.jupyter.widget-view+json": {
       "model_id": "37df2156838b45e78547876cc1811c63",
       "version_major": 2,
       "version_minor": 0
      },
      "text/plain": [
       "  0%|          | 0/126011 [00:00<?, ?it/s]"
      ]
     },
     "metadata": {},
     "output_type": "display_data"
    },
    {
     "data": {
      "application/vnd.jupyter.widget-view+json": {
       "model_id": "4a26ce38da4440dcbee077145e188fc1",
       "version_major": 2,
       "version_minor": 0
      },
      "text/plain": [
       "  0%|          | 0/192479 [00:00<?, ?it/s]"
      ]
     },
     "metadata": {},
     "output_type": "display_data"
    },
    {
     "data": {
      "application/vnd.jupyter.widget-view+json": {
       "model_id": "7ad8ee6930f7415f8fe22f5e0a7ef2d2",
       "version_major": 2,
       "version_minor": 0
      },
      "text/plain": [
       "  0%|          | 0/201335 [00:00<?, ?it/s]"
      ]
     },
     "metadata": {},
     "output_type": "display_data"
    },
    {
     "data": {
      "application/vnd.jupyter.widget-view+json": {
       "model_id": "d93602185e8f4632928eddb897a64e82",
       "version_major": 2,
       "version_minor": 0
      },
      "text/plain": [
       "  0%|          | 0/146753 [00:00<?, ?it/s]"
      ]
     },
     "metadata": {},
     "output_type": "display_data"
    },
    {
     "name": "stdout",
     "output_type": "stream",
     "text": [
      " Drama    category tfidf matrix shape: 637 306613\n",
      " Romance  category tfidf matrix shape: 207 126011\n",
      " Comedy   category tfidf matrix shape: 372 192479\n",
      " Thriller category tfidf matrix shape: 389 201335\n",
      " Crime    category tfidf matrix shape: 218 146753\n"
     ]
    }
   ],
   "source": [
    "def make_tfidf_matrix(terms, term_frequency, indexing_terms, postings_lists):\n",
    "    '''\n",
    "    parameters\n",
    "        terms         : words appeared in a category at least once\n",
    "        term_frequency: term-frequency matrix for each genre\n",
    "        indexing_terms: created in the last assignment\n",
    "        postings_lists: created in the last assignment\n",
    "    '''\n",
    "    rows    = len(term_frequency)\n",
    "    columns = len(term_frequency[0])\n",
    "    \n",
    "    tfidf_matrix = [[0 for i in range(columns)] for j in range(rows)]\n",
    "    for i in tqdm(range(columns)):   # iteration: number of words\n",
    "        for j in range(rows):        # iteration: number of docs\n",
    "            if j in postings_lists[terms[i]]:\n",
    "                tf = term_frequency[j][i]\n",
    "                idf = math.log2(rows / len(postings_lists[terms[i]]))\n",
    "                tfidf_matrix[j][i] = tf * idf\n",
    "            else:\n",
    "                pass\n",
    "    return tfidf_matrix\n",
    "\n",
    "\n",
    "# after making tfidf matrix\n",
    "drama_tim    = make_tfidf_matrix(drama_terms, drama_tf, drama_indexing_terms, drama_postings_lists)\n",
    "romance_tim  = make_tfidf_matrix(romance_terms, romance_tf, romance_indexing_terms, romance_postings_lists)\n",
    "comedy_tim   = make_tfidf_matrix(comedy_terms, comedy_tf, comedy_indexing_terms, comedy_postings_lists)\n",
    "thriller_tim = make_tfidf_matrix(thriller_terms, thriller_tf, thriller_indexing_terms, thriller_postings_lists)\n",
    "crime_tim    = make_tfidf_matrix(crime_terms, crime_tf, crime_indexing_terms, crime_postings_lists)\n",
    "\n",
    "print(' Drama    category tfidf matrix shape:', len(drama_tim), len(drama_tim[0]))\n",
    "print(' Romance  category tfidf matrix shape:', len(romance_tim), len(romance_tim[0]))\n",
    "print(' Comedy   category tfidf matrix shape:', len(comedy_tim), len(comedy_tim[0]))\n",
    "print(' Thriller category tfidf matrix shape:', len(thriller_tim), len(thriller_tim[0]))\n",
    "print(' Crime    category tfidf matrix shape:', len(crime_tim), len(crime_tim[0]))"
   ]
  },
  {
   "cell_type": "code",
   "execution_count": 22,
   "id": "99d57823",
   "metadata": {},
   "outputs": [],
   "source": [
    "def make_tfidf_query_vector(query, rows, terms, postings_lists):\n",
    "    '''\n",
    "    parameters\n",
    "        query: any input text from user\n",
    "        rows : number of documents in a category\n",
    "        terms: set of words used to make query vector\n",
    "    '''\n",
    "    # preprocessing texts\n",
    "    word_list = proprocess_query(query)\n",
    "    \n",
    "    # making term-frequency\n",
    "    columns = len(terms)\n",
    "    term_frequency = [0 for i in range(columns)]\n",
    "    for token in word_list:\n",
    "        i = terms.index(token)\n",
    "        term_frequency[i] += 1\n",
    "    \n",
    "    # making tfidf query vector\n",
    "    query_vec = [0 for i in range(columns)]\n",
    "    for i in range(columns):\n",
    "        tf = term_frequency[i]\n",
    "        idf = math.log2(rows / len(postings_lists[terms[i]]))\n",
    "        query_vec[i] = tf * idf\n",
    "    return list(query_vec)"
   ]
  },
  {
   "cell_type": "code",
   "execution_count": 23,
   "id": "4205df15",
   "metadata": {},
   "outputs": [],
   "source": [
    "def match_doc_and_query_byvector(genre, tim, query, terms, postings_lists):\n",
    "    '''\n",
    "    parameters\n",
    "        genre: one of the five categories\n",
    "        tim  : tfidf matrix for each genre\n",
    "        query: any input text from user\n",
    "        terms: set of words used to make query vector\n",
    "    '''\n",
    "    # get tfidf query vector\n",
    "    rows = len(tim)\n",
    "    query_vec = make_tfidf_query_vector(query, rows, terms, postings_lists)\n",
    "    query_vec = np.array(query_vec)\n",
    "    \n",
    "    # calculate cos similarity\n",
    "    cossim_list = []\n",
    "    for i in range(rows):\n",
    "        current_doc = np.array(tim[i][:])\n",
    "        cossim = cos_similarity(query_vec, current_doc)\n",
    "        cossim_list.append([cossim, i])\n",
    "    cossim_list.sort(key=lambda x: -x[0])\n",
    "    \n",
    "    # find documents that are most relevant to query\n",
    "    print(f\" TOP 10 movies to your query in genre '{genre}' are...\")\n",
    "    matched_movie_list = cossim_list[:10]\n",
    "    for i in range(len(matched_movie_list)):\n",
    "        matched_movie = find_movie_name(genre, matched_movie_list[i][1])\n",
    "        print(f\"  '%-30s' \" % matched_movie, end='')\n",
    "        print(f'with score {matched_movie_list[i][0]}')\n",
    "    return matched_movie_list\n",
    "\n",
    "\n",
    "def cos_similarity(vec1, vec2):\n",
    "    return np.dot(vec1, vec2)/(np.linalg.norm(vec1)*np.linalg.norm(vec2))"
   ]
  },
  {
   "cell_type": "markdown",
   "id": "b6cdabb5",
   "metadata": {},
   "source": [
    "### Vector space model: Example"
   ]
  },
  {
   "cell_type": "code",
   "execution_count": 24,
   "id": "867ed14f",
   "metadata": {},
   "outputs": [
    {
     "name": "stdout",
     "output_type": "stream",
     "text": [
      " TOP 10 movies to your query in genre 'drama' are...\n",
      "  '12 and Holding                ' with score 0.04890273811399546\n",
      "  'Apt Pupil                     ' with score 0.040419990012928744\n",
      "  '187                           ' with score 0.0358933582165348\n",
      "  'Almost Famous                 ' with score 0.02938131941458541\n",
      "  'Ali                           ' with score 0.028607373702858586\n",
      "  'American Splendor             ' with score 0.027571239565206948\n",
      "  'American Gangster             ' with score 0.026189930550036617\n",
      "  '50-50                         ' with score 0.026027418014808682\n",
      "  'An Education                  ' with score 0.025129429693557772\n",
      "  'After.Life                    ' with score 0.024825005481282768\n"
     ]
    }
   ],
   "source": [
    "# 'Drama' category\n",
    "query = \"Please holding me tight.\\\n",
    "         Probably he's saying forever.\\\n",
    "         Discover my classroom and students.\\\n",
    "         They're continued in morning.\"\n",
    "\n",
    "matched_drama_movie_list = match_doc_and_query_byvector('drama', drama_dtm, query, drama_terms, drama_postings_lists)"
   ]
  },
  {
   "cell_type": "code",
   "execution_count": 25,
   "id": "242c2739",
   "metadata": {},
   "outputs": [
    {
     "name": "stdout",
     "output_type": "stream",
     "text": [
      " TOP 10 movies to your query in genre 'romance' are...\n",
      "  '500 Days of Summer            ' with score 0.07058284286157498\n",
      "  'Artist, The                   ' with score 0.0034213392071774824\n",
      "  'Brothers Bloom, The           ' with score 0.0033127129333557943\n",
      "  '10 Things I Hate About You    ' with score 0.002410674987584413\n",
      "  'Clueless                      ' with score 0.002354104552827887\n",
      "  'Almost Famous                 ' with score 0.002254437882465098\n",
      "  'Autumn in New York            ' with score 0.00196422785268089\n",
      "  'American President, The       ' with score 0.001930453104120181\n",
      "  'Bruce Almighty                ' with score 0.001365393788235247\n",
      "  'Cooler, The                   ' with score 0.0011099663255404472\n"
     ]
    }
   ],
   "source": [
    "# 'Romance' category\n",
    "query = \"I love ten things that seen in November against hot summer.\\\n",
    "         They looks so beautiful, really joyful.\\\n",
    "         Imagine what's coming.\\\n",
    "         There's no time to block anything.\"\n",
    "\n",
    "matched_romance_movie_list = match_doc_and_query_byvector('romance', romance_tim, query, romance_terms, romance_postings_lists)"
   ]
  },
  {
   "cell_type": "code",
   "execution_count": 26,
   "id": "24152421",
   "metadata": {},
   "outputs": [
    {
     "name": "stdout",
     "output_type": "stream",
     "text": [
      " TOP 10 movies to your query in genre 'comedy' are...\n",
      "  '10 Things I Hate About You    ' with score 0.03927447047913445\n",
      "  'American Pie                  ' with score 0.03162680167058886\n",
      "  'Drop Dead Gorgeous            ' with score 0.031191640447265058\n",
      "  'Fatal Instinct                ' with score 0.03099965604755074\n",
      "  'Devil Wears Prada, The        ' with score 0.02772157020454454\n",
      "  'Entrapment                    ' with score 0.027134010113659946\n",
      "  'Croods, The                   ' with score 0.026956611006231552\n",
      "  'Back-up Plan, The             ' with score 0.02658907004905023\n",
      "  '48 Hrs.                       ' with score 0.025446718861336155\n",
      "  '500 Days of Summer            ' with score 0.02392951683692961\n"
     ]
    }
   ],
   "source": [
    "# 'Comedy' category\n",
    "query = \"Boys and girls are different.\\\n",
    "         They never work a lot.\\\n",
    "         Amazingly, ladies catch sunglasses and laugh.\\\n",
    "         There's some question about eating.\"\n",
    "\n",
    "matched_comedy_movie_list = match_doc_and_query_byvector('comedy', comedy_dtm, query, comedy_terms, comedy_postings_lists)"
   ]
  },
  {
   "cell_type": "code",
   "execution_count": 27,
   "id": "33e9e912",
   "metadata": {},
   "outputs": [
    {
     "name": "stdout",
     "output_type": "stream",
     "text": [
      " TOP 10 movies to your query in genre 'thriller' are...\n",
      "  '12 Monkeys                    ' with score 0.03565008961896475\n",
      "  'Adjustment Bureau, The        ' with score 0.01882440177767354\n",
      "  'Basic                         ' with score 0.018593336125182082\n",
      "  'Avventura, L' (The Adventure) ' with score 0.015792793091269873\n",
      "  '8MM                           ' with score 0.014280168676499028\n",
      "  'Black Dahlia, The             ' with score 0.014269050898844698\n",
      "  'Batman 2                      ' with score 0.013735337514713534\n",
      "  'Birds, The                    ' with score 0.012269021027917234\n",
      "  '15 Minutes                    ' with score 0.011713840925709804\n",
      "  'Air Force One                 ' with score 0.01131386922858502\n"
     ]
    }
   ],
   "source": [
    "# 'Thriller' category\n",
    "query = \"Monkeys are inspired by strong people!\\\n",
    "         Newspapers mean breath carefully.\\\n",
    "         You'll play like lion.\\\n",
    "         There are choices.\"\n",
    "\n",
    "matched_thriller_movie_list = match_doc_and_query_byvector('thriller', thriller_dtm, query, thriller_terms, thriller_postings_lists)"
   ]
  },
  {
   "cell_type": "code",
   "execution_count": 28,
   "id": "07463e13",
   "metadata": {},
   "outputs": [
    {
     "name": "stdout",
     "output_type": "stream",
     "text": [
      " TOP 10 movies to your query in genre 'crime' are...\n",
      "  '15 Minutes                    ' with score 0.031020131219329932\n",
      "  'American Gangster             ' with score 0.02601192275342815\n",
      "  'Bound                         ' with score 0.012319345252069147\n",
      "  'Catch Me If You Can           ' with score 0.01226406675056572\n",
      "  'Analyze That                  ' with score 0.011948710212007906\n",
      "  'BlacKkKlansman                ' with score 0.011853095382854537\n",
      "  'Batman                        ' with score 0.011555054998641213\n",
      "  'Capote                        ' with score 0.011501321308417021\n",
      "  'Black Rain                    ' with score 0.011288029388025853\n",
      "  'Chinatown                     ' with score 0.011052800798142377\n"
     ]
    }
   ],
   "source": [
    "# 'Crime' category\n",
    "query = \"Money and bills are coming.\\\n",
    "         They're not outdated...\\\n",
    "         It's called America joke.\\\n",
    "         Not a joke, made by dirty story\"\n",
    "\n",
    "matched_crime_movie_list = match_doc_and_query_byvector('crime', crime_dtm, query, crime_terms, crime_postings_lists)"
   ]
  },
  {
   "cell_type": "markdown",
   "id": "89f9781a",
   "metadata": {},
   "source": [
    "### Vector space model: Evaluation\n",
    "> The MAP evaluation follows the *assumptions* below.\n",
    "1) *In the above vector space model, only RETRIEVED the top 10 cos similarity movies between query vector and document vector.*   \n",
    "\n",
    "2) *Among them, only 3~5 randomly selected movies are assumed to be RELEVANT.*"
   ]
  },
  {
   "cell_type": "code",
   "execution_count": 29,
   "id": "56e9a08a",
   "metadata": {},
   "outputs": [],
   "source": [
    "def plot_evaluation(p1, r1, p2, r2, p3, r3, p4, r4, p5, r5, ver):\n",
    "    evaluate = [['drama', p1, r1],\n",
    "                ['romance', p2, r2],\n",
    "                ['comedy', p3, r3],\n",
    "                ['thriller', p4, r4],\n",
    "                ['crime', p5, r5]]\n",
    "    evaluate_df = pd.DataFrame(evaluate, columns=['genre', 'MAP', 'MAR'])\n",
    "    evaluate_df.plot(x='genre', y=['MAP', 'MAR'], kind='bar', figsize=(20,6))\n",
    "    plt.title(f'Evaluation: \"{ver}\"', size=20)\n",
    "    plt.xticks(size=15, rotation=45)\n",
    "    plt.legend(fontsize=15)"
   ]
  },
  {
   "cell_type": "code",
   "execution_count": 30,
   "id": "8aaf7924",
   "metadata": {},
   "outputs": [],
   "source": [
    "def select_random_relevant(five=False):\n",
    "    if five: randnum = 5\n",
    "    else: randnum = random.randint(3, 5)\n",
    "        \n",
    "    randidx = []\n",
    "    for i in range(randnum):\n",
    "        while True:\n",
    "            idx = random.randint(0, 9)\n",
    "            if idx not in randidx:\n",
    "                randidx.append(idx)\n",
    "                break       \n",
    "    \n",
    "    relevant = []\n",
    "    for i in range(10):\n",
    "        if i in randidx:\n",
    "            relevant.append(1)\n",
    "        else:\n",
    "            relevant.append(0)\n",
    "    return relevant\n",
    "\n",
    "\n",
    "# set movie scripts are whether RELEVANT or not\n",
    "drama_relevant1    = select_random_relevant()\n",
    "romance_relevant1  = select_random_relevant()\n",
    "comedy_relevant1   = select_random_relevant()\n",
    "thriller_relevant1 = select_random_relevant()\n",
    "crime_relevant1    = select_random_relevant()"
   ]
  },
  {
   "cell_type": "code",
   "execution_count": 31,
   "id": "eec84900",
   "metadata": {},
   "outputs": [
    {
     "data": {
      "image/png": "[encoded data removed]",
      "text/plain": [
       "<Figure size 1440x432 with 1 Axes>"
      ]
     },
     "metadata": {
      "needs_background": "light"
     },
     "output_type": "display_data"
    }
   ],
   "source": [
    "def score_mean_average_evaluation(relevant):\n",
    "    recall    = []\n",
    "    precision = []\n",
    "    relevant_num = relevant.count(1)     # number of relevant documents\n",
    "    relevant_cnt = 0                     # number of appearing relevant documents\n",
    "    relevant_idx = [i for i in range(len(relevant)) if relevant[i] == 1]     # index of relevant documents\n",
    "    \n",
    "    for i in range(len(relevant)):\n",
    "        cur_doc = relevant[i]\n",
    "        \n",
    "        if cur_doc == 1:\n",
    "            relevant_cnt += 1    \n",
    "            # compute recall at current document\n",
    "            cur_recall = relevant_cnt / relevant_num\n",
    "            recall.append(np.round(cur_recall, 2))\n",
    "        else:\n",
    "            # compute recall at current document\n",
    "            try:\n",
    "                cur_recall = recall[i-1]\n",
    "                recall.append(np.round(cur_recall, 2))\n",
    "            except:\n",
    "                cur_recall = 0.0\n",
    "                recall.append(cur_recall)\n",
    "        \n",
    "        # compute precision at current document\n",
    "        cur_precision = relevant_cnt / (i+1)\n",
    "        precision.append(np.round(cur_precision, 2))\n",
    "            \n",
    "    # compute recall & precision at relevant documents\n",
    "    relevant_recall    = [] \n",
    "    relevant_precision = []\n",
    "    for idx in relevant_idx:\n",
    "        cur_recall    = recall[idx]\n",
    "        cur_precision = precision[idx]\n",
    "        relevant_recall.append(cur_recall)\n",
    "        relevant_precision.append(cur_precision)\n",
    "        \n",
    "    MAP = np.round(np.mean(relevant_precision) , 2)\n",
    "    MAR = np.round(np.mean(relevant_recall), 2)\n",
    "    return MAP, MAR   \n",
    "    \n",
    "    \n",
    "p1, r1 = score_mean_average_evaluation(drama_relevant1)\n",
    "p2, r2 = score_mean_average_evaluation(romance_relevant1)\n",
    "p3, r3 = score_mean_average_evaluation(comedy_relevant1)\n",
    "p4, r4 = score_mean_average_evaluation(thriller_relevant1)\n",
    "p5, r5 = score_mean_average_evaluation(crime_relevant1)\n",
    "plot_evaluation(p1, r1, p2, r2, p3, r3, p4, r4, p5, r5, 'Relevant documents counts: 3~5 randomly selected')"
   ]
  },
  {
   "cell_type": "markdown",
   "id": "abc8a999",
   "metadata": {},
   "source": [
    "> The NDCG follows the *assumptions* below.\n",
    "1) *In the above vector space model, only RETRIEVED the top 10 cos similarity movies between query vector and document vector.*   \n",
    "\n",
    "2) *Among them, only 5 randomly selected movies are assumed to be RELEVANT.*\n",
    "\n",
    "3) *Cos similarity is treated as a 'relevance' in each movie.*"
   ]
  },
  {
   "cell_type": "code",
   "execution_count": 32,
   "id": "3aee363b",
   "metadata": {},
   "outputs": [],
   "source": [
    "# set movie scripts are whether RELEVANT or not\n",
    "drama_relevant2    = select_random_relevant(five=True)\n",
    "romance_relevant2  = select_random_relevant(five=True)\n",
    "comedy_relevant2   = select_random_relevant(five=True)\n",
    "thriller_relevant2 = select_random_relevant(five=True)\n",
    "crime_relevant2    = select_random_relevant(five=True)"
   ]
  },
  {
   "cell_type": "code",
   "execution_count": 33,
   "id": "c2ab2c7c",
   "metadata": {},
   "outputs": [],
   "source": [
    "def score_ndcg(matched_movie_list, relevant):\n",
    "    rel = []     # relevance of retrieved movies\n",
    "    idx = []     # index of retrieved movies   \n",
    "    for i in range(10):\n",
    "        rel.append(np.round(matched_movie_list[i][0], 5))\n",
    "        idx.append(matched_movie_list[i][1])\n",
    "\n",
    "    # make nonrelevant movie's relevance = 0\n",
    "    relevant_idx    = [i for i in range(len(relevant)) if relevant[i] == 1]     # index of relevant documents\n",
    "    nonrelevant_idx = []\n",
    "    for i in range(10):\n",
    "        if i not in relevant_idx:\n",
    "            rel[i] = 0\n",
    "            nonrelevant_idx.append(i)\n",
    "\n",
    "    # compute dcg\n",
    "    log = [np.round(math.log2(i), 5) for i in range(1, 11, 1)]\n",
    "    dcg = []\n",
    "    for i in range(10):\n",
    "        if i == 0: cur_dcg = rel[0]\n",
    "        else: cur_dcg = dcg[i-1] + (rel[i]/log[i])\n",
    "        dcg.append(np.round(cur_dcg, 5))\n",
    "    \n",
    "    # newly aligned relevance & index by idcg\n",
    "    new_rel = []   \n",
    "    new_idx = []\n",
    "    for i in relevant_idx:\n",
    "        new_rel.append(rel[i])\n",
    "        new_idx.append(idx[i])\n",
    "    for i in nonrelevant_idx:\n",
    "        new_rel.append(rel[i])\n",
    "        new_idx.append(idx[i])\n",
    "    \n",
    "    # compute idcg\n",
    "    idcg = []\n",
    "    for i in range(10):\n",
    "        if i == 0: cur_idcg = new_rel[0]\n",
    "        else: cur_idcg = idcg[i-1] + (new_rel[i]/log[i])\n",
    "        idcg.append(np.round(cur_idcg, 5))\n",
    "       \n",
    "    # compute ndcg\n",
    "    ndcg = []\n",
    "    for i in range(10):\n",
    "        cur_ndcg = dcg[i] / idcg[i]\n",
    "        ndcg.append(np.round(cur_ndcg, 5))\n",
    "    \n",
    "    ndcg_df = pd.DataFrame({'doc#': idx, 'relevance': rel, 'DCG': dcg, 'IDCG': idcg, 'NDCG': ndcg})\n",
    "    return ndcg_df"
   ]
  },
  {
   "cell_type": "code",
   "execution_count": 34,
   "id": "fe823922",
   "metadata": {},
   "outputs": [
    {
     "data": {
      "text/html": [
       "<div>\n",
       "<style scoped>\n",
       "    .dataframe tbody tr th:only-of-type {\n",
       "        vertical-align: middle;\n",
       "    }\n",
       "\n",
       "    .dataframe tbody tr th {\n",
       "        vertical-align: top;\n",
       "    }\n",
       "\n",
       "    .dataframe thead th {\n",
       "        text-align: right;\n",
       "    }\n",
       "</style>\n",
       "<table border=\"1\" class=\"dataframe\">\n",
       "  <thead>\n",
       "    <tr style=\"text-align: right;\">\n",
       "      <th></th>\n",
       "      <th>doc#</th>\n",
       "      <th>relevance</th>\n",
       "      <th>DCG</th>\n",
       "      <th>IDCG</th>\n",
       "      <th>NDCG</th>\n",
       "    </tr>\n",
       "  </thead>\n",
       "  <tbody>\n",
       "    <tr>\n",
       "      <th>0</th>\n",
       "      <td>0</td>\n",
       "      <td>0.00000</td>\n",
       "      <td>0.00000</td>\n",
       "      <td>0.04042</td>\n",
       "      <td>0.00000</td>\n",
       "    </tr>\n",
       "    <tr>\n",
       "      <th>1</th>\n",
       "      <td>56</td>\n",
       "      <td>0.04042</td>\n",
       "      <td>0.04042</td>\n",
       "      <td>0.07631</td>\n",
       "      <td>0.52968</td>\n",
       "    </tr>\n",
       "    <tr>\n",
       "      <th>2</th>\n",
       "      <td>6</td>\n",
       "      <td>0.03589</td>\n",
       "      <td>0.06306</td>\n",
       "      <td>0.09485</td>\n",
       "      <td>0.66484</td>\n",
       "    </tr>\n",
       "    <tr>\n",
       "      <th>3</th>\n",
       "      <td>32</td>\n",
       "      <td>0.02938</td>\n",
       "      <td>0.07775</td>\n",
       "      <td>0.10916</td>\n",
       "      <td>0.71226</td>\n",
       "    </tr>\n",
       "    <tr>\n",
       "      <th>4</th>\n",
       "      <td>26</td>\n",
       "      <td>0.02861</td>\n",
       "      <td>0.09007</td>\n",
       "      <td>0.11998</td>\n",
       "      <td>0.75071</td>\n",
       "    </tr>\n",
       "    <tr>\n",
       "      <th>5</th>\n",
       "      <td>44</td>\n",
       "      <td>0.00000</td>\n",
       "      <td>0.09007</td>\n",
       "      <td>0.11998</td>\n",
       "      <td>0.75071</td>\n",
       "    </tr>\n",
       "    <tr>\n",
       "      <th>6</th>\n",
       "      <td>36</td>\n",
       "      <td>0.00000</td>\n",
       "      <td>0.09007</td>\n",
       "      <td>0.11998</td>\n",
       "      <td>0.75071</td>\n",
       "    </tr>\n",
       "    <tr>\n",
       "      <th>7</th>\n",
       "      <td>11</td>\n",
       "      <td>0.00000</td>\n",
       "      <td>0.09007</td>\n",
       "      <td>0.11998</td>\n",
       "      <td>0.75071</td>\n",
       "    </tr>\n",
       "    <tr>\n",
       "      <th>8</th>\n",
       "      <td>47</td>\n",
       "      <td>0.02513</td>\n",
       "      <td>0.09800</td>\n",
       "      <td>0.11998</td>\n",
       "      <td>0.81680</td>\n",
       "    </tr>\n",
       "    <tr>\n",
       "      <th>9</th>\n",
       "      <td>23</td>\n",
       "      <td>0.00000</td>\n",
       "      <td>0.09800</td>\n",
       "      <td>0.11998</td>\n",
       "      <td>0.81680</td>\n",
       "    </tr>\n",
       "  </tbody>\n",
       "</table>\n",
       "</div>"
      ],
      "text/plain": [
       "   doc#  relevance      DCG     IDCG     NDCG\n",
       "0     0    0.00000  0.00000  0.04042  0.00000\n",
       "1    56    0.04042  0.04042  0.07631  0.52968\n",
       "2     6    0.03589  0.06306  0.09485  0.66484\n",
       "3    32    0.02938  0.07775  0.10916  0.71226\n",
       "4    26    0.02861  0.09007  0.11998  0.75071\n",
       "5    44    0.00000  0.09007  0.11998  0.75071\n",
       "6    36    0.00000  0.09007  0.11998  0.75071\n",
       "7    11    0.00000  0.09007  0.11998  0.75071\n",
       "8    47    0.02513  0.09800  0.11998  0.81680\n",
       "9    23    0.00000  0.09800  0.11998  0.81680"
      ]
     },
     "execution_count": 34,
     "metadata": {},
     "output_type": "execute_result"
    }
   ],
   "source": [
    "# 'Drama' category, Relevant documents counts: 5 randomly selected\n",
    "drama_ndcg = score_ndcg(matched_drama_movie_list, drama_relevant2)\n",
    "drama_ndcg"
   ]
  },
  {
   "cell_type": "code",
   "execution_count": 35,
   "id": "e31df168",
   "metadata": {},
   "outputs": [
    {
     "data": {
      "text/html": [
       "<div>\n",
       "<style scoped>\n",
       "    .dataframe tbody tr th:only-of-type {\n",
       "        vertical-align: middle;\n",
       "    }\n",
       "\n",
       "    .dataframe tbody tr th {\n",
       "        vertical-align: top;\n",
       "    }\n",
       "\n",
       "    .dataframe thead th {\n",
       "        text-align: right;\n",
       "    }\n",
       "</style>\n",
       "<table border=\"1\" class=\"dataframe\">\n",
       "  <thead>\n",
       "    <tr style=\"text-align: right;\">\n",
       "      <th></th>\n",
       "      <th>doc#</th>\n",
       "      <th>relevance</th>\n",
       "      <th>DCG</th>\n",
       "      <th>IDCG</th>\n",
       "      <th>NDCG</th>\n",
       "    </tr>\n",
       "  </thead>\n",
       "  <tbody>\n",
       "    <tr>\n",
       "      <th>0</th>\n",
       "      <td>2</td>\n",
       "      <td>0.00000</td>\n",
       "      <td>0.00000</td>\n",
       "      <td>0.00342</td>\n",
       "      <td>0.00000</td>\n",
       "    </tr>\n",
       "    <tr>\n",
       "      <th>1</th>\n",
       "      <td>12</td>\n",
       "      <td>0.00342</td>\n",
       "      <td>0.00342</td>\n",
       "      <td>0.00583</td>\n",
       "      <td>0.58662</td>\n",
       "    </tr>\n",
       "    <tr>\n",
       "      <th>2</th>\n",
       "      <td>35</td>\n",
       "      <td>0.00000</td>\n",
       "      <td>0.00342</td>\n",
       "      <td>0.00731</td>\n",
       "      <td>0.46785</td>\n",
       "    </tr>\n",
       "    <tr>\n",
       "      <th>3</th>\n",
       "      <td>0</td>\n",
       "      <td>0.00241</td>\n",
       "      <td>0.00462</td>\n",
       "      <td>0.00800</td>\n",
       "      <td>0.57750</td>\n",
       "    </tr>\n",
       "    <tr>\n",
       "      <th>4</th>\n",
       "      <td>45</td>\n",
       "      <td>0.00235</td>\n",
       "      <td>0.00563</td>\n",
       "      <td>0.00848</td>\n",
       "      <td>0.66392</td>\n",
       "    </tr>\n",
       "    <tr>\n",
       "      <th>5</th>\n",
       "      <td>6</td>\n",
       "      <td>0.00000</td>\n",
       "      <td>0.00563</td>\n",
       "      <td>0.00848</td>\n",
       "      <td>0.66392</td>\n",
       "    </tr>\n",
       "    <tr>\n",
       "      <th>6</th>\n",
       "      <td>14</td>\n",
       "      <td>0.00000</td>\n",
       "      <td>0.00563</td>\n",
       "      <td>0.00848</td>\n",
       "      <td>0.66392</td>\n",
       "    </tr>\n",
       "    <tr>\n",
       "      <th>7</th>\n",
       "      <td>7</td>\n",
       "      <td>0.00000</td>\n",
       "      <td>0.00563</td>\n",
       "      <td>0.00848</td>\n",
       "      <td>0.66392</td>\n",
       "    </tr>\n",
       "    <tr>\n",
       "      <th>8</th>\n",
       "      <td>36</td>\n",
       "      <td>0.00137</td>\n",
       "      <td>0.00606</td>\n",
       "      <td>0.00848</td>\n",
       "      <td>0.71462</td>\n",
       "    </tr>\n",
       "    <tr>\n",
       "      <th>9</th>\n",
       "      <td>48</td>\n",
       "      <td>0.00111</td>\n",
       "      <td>0.00639</td>\n",
       "      <td>0.00848</td>\n",
       "      <td>0.75354</td>\n",
       "    </tr>\n",
       "  </tbody>\n",
       "</table>\n",
       "</div>"
      ],
      "text/plain": [
       "   doc#  relevance      DCG     IDCG     NDCG\n",
       "0     2    0.00000  0.00000  0.00342  0.00000\n",
       "1    12    0.00342  0.00342  0.00583  0.58662\n",
       "2    35    0.00000  0.00342  0.00731  0.46785\n",
       "3     0    0.00241  0.00462  0.00800  0.57750\n",
       "4    45    0.00235  0.00563  0.00848  0.66392\n",
       "5     6    0.00000  0.00563  0.00848  0.66392\n",
       "6    14    0.00000  0.00563  0.00848  0.66392\n",
       "7     7    0.00000  0.00563  0.00848  0.66392\n",
       "8    36    0.00137  0.00606  0.00848  0.71462\n",
       "9    48    0.00111  0.00639  0.00848  0.75354"
      ]
     },
     "execution_count": 35,
     "metadata": {},
     "output_type": "execute_result"
    }
   ],
   "source": [
    "# 'Romance' category, Relevant documents counts: 5 randomly selected\n",
    "romance_ndcg = score_ndcg(matched_romance_movie_list, romance_relevant2)\n",
    "romance_ndcg"
   ]
  },
  {
   "cell_type": "code",
   "execution_count": 36,
   "id": "b35a5077",
   "metadata": {},
   "outputs": [
    {
     "data": {
      "text/html": [
       "<div>\n",
       "<style scoped>\n",
       "    .dataframe tbody tr th:only-of-type {\n",
       "        vertical-align: middle;\n",
       "    }\n",
       "\n",
       "    .dataframe tbody tr th {\n",
       "        vertical-align: top;\n",
       "    }\n",
       "\n",
       "    .dataframe thead th {\n",
       "        text-align: right;\n",
       "    }\n",
       "</style>\n",
       "<table border=\"1\" class=\"dataframe\">\n",
       "  <thead>\n",
       "    <tr style=\"text-align: right;\">\n",
       "      <th></th>\n",
       "      <th>doc#</th>\n",
       "      <th>relevance</th>\n",
       "      <th>DCG</th>\n",
       "      <th>IDCG</th>\n",
       "      <th>NDCG</th>\n",
       "    </tr>\n",
       "  </thead>\n",
       "  <tbody>\n",
       "    <tr>\n",
       "      <th>0</th>\n",
       "      <td>0</td>\n",
       "      <td>0.03927</td>\n",
       "      <td>0.03927</td>\n",
       "      <td>0.03927</td>\n",
       "      <td>1.00000</td>\n",
       "    </tr>\n",
       "    <tr>\n",
       "      <th>1</th>\n",
       "      <td>21</td>\n",
       "      <td>0.00000</td>\n",
       "      <td>0.03927</td>\n",
       "      <td>0.07046</td>\n",
       "      <td>0.55734</td>\n",
       "    </tr>\n",
       "    <tr>\n",
       "      <th>2</th>\n",
       "      <td>116</td>\n",
       "      <td>0.03119</td>\n",
       "      <td>0.05895</td>\n",
       "      <td>0.09002</td>\n",
       "      <td>0.65485</td>\n",
       "    </tr>\n",
       "    <tr>\n",
       "      <th>3</th>\n",
       "      <td>134</td>\n",
       "      <td>0.03100</td>\n",
       "      <td>0.07445</td>\n",
       "      <td>0.10332</td>\n",
       "      <td>0.72058</td>\n",
       "    </tr>\n",
       "    <tr>\n",
       "      <th>4</th>\n",
       "      <td>110</td>\n",
       "      <td>0.00000</td>\n",
       "      <td>0.07445</td>\n",
       "      <td>0.11428</td>\n",
       "      <td>0.65147</td>\n",
       "    </tr>\n",
       "    <tr>\n",
       "      <th>5</th>\n",
       "      <td>124</td>\n",
       "      <td>0.00000</td>\n",
       "      <td>0.07445</td>\n",
       "      <td>0.11428</td>\n",
       "      <td>0.65147</td>\n",
       "    </tr>\n",
       "    <tr>\n",
       "      <th>6</th>\n",
       "      <td>98</td>\n",
       "      <td>0.00000</td>\n",
       "      <td>0.07445</td>\n",
       "      <td>0.11428</td>\n",
       "      <td>0.65147</td>\n",
       "    </tr>\n",
       "    <tr>\n",
       "      <th>7</th>\n",
       "      <td>42</td>\n",
       "      <td>0.02659</td>\n",
       "      <td>0.08331</td>\n",
       "      <td>0.11428</td>\n",
       "      <td>0.72900</td>\n",
       "    </tr>\n",
       "    <tr>\n",
       "      <th>8</th>\n",
       "      <td>4</td>\n",
       "      <td>0.02545</td>\n",
       "      <td>0.09134</td>\n",
       "      <td>0.11428</td>\n",
       "      <td>0.79926</td>\n",
       "    </tr>\n",
       "    <tr>\n",
       "      <th>9</th>\n",
       "      <td>6</td>\n",
       "      <td>0.00000</td>\n",
       "      <td>0.09134</td>\n",
       "      <td>0.11428</td>\n",
       "      <td>0.79926</td>\n",
       "    </tr>\n",
       "  </tbody>\n",
       "</table>\n",
       "</div>"
      ],
      "text/plain": [
       "   doc#  relevance      DCG     IDCG     NDCG\n",
       "0     0    0.03927  0.03927  0.03927  1.00000\n",
       "1    21    0.00000  0.03927  0.07046  0.55734\n",
       "2   116    0.03119  0.05895  0.09002  0.65485\n",
       "3   134    0.03100  0.07445  0.10332  0.72058\n",
       "4   110    0.00000  0.07445  0.11428  0.65147\n",
       "5   124    0.00000  0.07445  0.11428  0.65147\n",
       "6    98    0.00000  0.07445  0.11428  0.65147\n",
       "7    42    0.02659  0.08331  0.11428  0.72900\n",
       "8     4    0.02545  0.09134  0.11428  0.79926\n",
       "9     6    0.00000  0.09134  0.11428  0.79926"
      ]
     },
     "execution_count": 36,
     "metadata": {},
     "output_type": "execute_result"
    }
   ],
   "source": [
    "# 'Comedy' category, Relevant documents counts: 5 randomly selected\n",
    "comedy_ndcg = score_ndcg(matched_comedy_movie_list, comedy_relevant2)\n",
    "comedy_ndcg"
   ]
  },
  {
   "cell_type": "code",
   "execution_count": 37,
   "id": "68933b28",
   "metadata": {},
   "outputs": [
    {
     "data": {
      "text/html": [
       "<div>\n",
       "<style scoped>\n",
       "    .dataframe tbody tr th:only-of-type {\n",
       "        vertical-align: middle;\n",
       "    }\n",
       "\n",
       "    .dataframe tbody tr th {\n",
       "        vertical-align: top;\n",
       "    }\n",
       "\n",
       "    .dataframe thead th {\n",
       "        text-align: right;\n",
       "    }\n",
       "</style>\n",
       "<table border=\"1\" class=\"dataframe\">\n",
       "  <thead>\n",
       "    <tr style=\"text-align: right;\">\n",
       "      <th></th>\n",
       "      <th>doc#</th>\n",
       "      <th>relevance</th>\n",
       "      <th>DCG</th>\n",
       "      <th>IDCG</th>\n",
       "      <th>NDCG</th>\n",
       "    </tr>\n",
       "  </thead>\n",
       "  <tbody>\n",
       "    <tr>\n",
       "      <th>0</th>\n",
       "      <td>0</td>\n",
       "      <td>0.00000</td>\n",
       "      <td>0.00000</td>\n",
       "      <td>0.01859</td>\n",
       "      <td>0.00000</td>\n",
       "    </tr>\n",
       "    <tr>\n",
       "      <th>1</th>\n",
       "      <td>9</td>\n",
       "      <td>0.00000</td>\n",
       "      <td>0.00000</td>\n",
       "      <td>0.03287</td>\n",
       "      <td>0.00000</td>\n",
       "    </tr>\n",
       "    <tr>\n",
       "      <th>2</th>\n",
       "      <td>39</td>\n",
       "      <td>0.01859</td>\n",
       "      <td>0.01173</td>\n",
       "      <td>0.04187</td>\n",
       "      <td>0.28015</td>\n",
       "    </tr>\n",
       "    <tr>\n",
       "      <th>3</th>\n",
       "      <td>32</td>\n",
       "      <td>0.00000</td>\n",
       "      <td>0.01173</td>\n",
       "      <td>0.04772</td>\n",
       "      <td>0.24581</td>\n",
       "    </tr>\n",
       "    <tr>\n",
       "      <th>4</th>\n",
       "      <td>5</td>\n",
       "      <td>0.01428</td>\n",
       "      <td>0.01788</td>\n",
       "      <td>0.05259</td>\n",
       "      <td>0.33999</td>\n",
       "    </tr>\n",
       "    <tr>\n",
       "      <th>5</th>\n",
       "      <td>46</td>\n",
       "      <td>0.01427</td>\n",
       "      <td>0.02340</td>\n",
       "      <td>0.05259</td>\n",
       "      <td>0.44495</td>\n",
       "    </tr>\n",
       "    <tr>\n",
       "      <th>6</th>\n",
       "      <td>42</td>\n",
       "      <td>0.00000</td>\n",
       "      <td>0.02340</td>\n",
       "      <td>0.05259</td>\n",
       "      <td>0.44495</td>\n",
       "    </tr>\n",
       "    <tr>\n",
       "      <th>7</th>\n",
       "      <td>45</td>\n",
       "      <td>0.00000</td>\n",
       "      <td>0.02340</td>\n",
       "      <td>0.05259</td>\n",
       "      <td>0.44495</td>\n",
       "    </tr>\n",
       "    <tr>\n",
       "      <th>8</th>\n",
       "      <td>2</td>\n",
       "      <td>0.01171</td>\n",
       "      <td>0.02709</td>\n",
       "      <td>0.05259</td>\n",
       "      <td>0.51512</td>\n",
       "    </tr>\n",
       "    <tr>\n",
       "      <th>9</th>\n",
       "      <td>11</td>\n",
       "      <td>0.01131</td>\n",
       "      <td>0.03049</td>\n",
       "      <td>0.05259</td>\n",
       "      <td>0.57977</td>\n",
       "    </tr>\n",
       "  </tbody>\n",
       "</table>\n",
       "</div>"
      ],
      "text/plain": [
       "   doc#  relevance      DCG     IDCG     NDCG\n",
       "0     0    0.00000  0.00000  0.01859  0.00000\n",
       "1     9    0.00000  0.00000  0.03287  0.00000\n",
       "2    39    0.01859  0.01173  0.04187  0.28015\n",
       "3    32    0.00000  0.01173  0.04772  0.24581\n",
       "4     5    0.01428  0.01788  0.05259  0.33999\n",
       "5    46    0.01427  0.02340  0.05259  0.44495\n",
       "6    42    0.00000  0.02340  0.05259  0.44495\n",
       "7    45    0.00000  0.02340  0.05259  0.44495\n",
       "8     2    0.01171  0.02709  0.05259  0.51512\n",
       "9    11    0.01131  0.03049  0.05259  0.57977"
      ]
     },
     "execution_count": 37,
     "metadata": {},
     "output_type": "execute_result"
    }
   ],
   "source": [
    "# 'Thriller' category, Relevant documents counts: 5 randomly selected\n",
    "thriller_ndcg = score_ndcg(matched_thriller_movie_list, thriller_relevant2)\n",
    "thriller_ndcg"
   ]
  },
  {
   "cell_type": "code",
   "execution_count": 38,
   "id": "8f18ab3d",
   "metadata": {},
   "outputs": [
    {
     "data": {
      "text/html": [
       "<div>\n",
       "<style scoped>\n",
       "    .dataframe tbody tr th:only-of-type {\n",
       "        vertical-align: middle;\n",
       "    }\n",
       "\n",
       "    .dataframe tbody tr th {\n",
       "        vertical-align: top;\n",
       "    }\n",
       "\n",
       "    .dataframe thead th {\n",
       "        text-align: right;\n",
       "    }\n",
       "</style>\n",
       "<table border=\"1\" class=\"dataframe\">\n",
       "  <thead>\n",
       "    <tr style=\"text-align: right;\">\n",
       "      <th></th>\n",
       "      <th>doc#</th>\n",
       "      <th>relevance</th>\n",
       "      <th>DCG</th>\n",
       "      <th>IDCG</th>\n",
       "      <th>NDCG</th>\n",
       "    </tr>\n",
       "  </thead>\n",
       "  <tbody>\n",
       "    <tr>\n",
       "      <th>0</th>\n",
       "      <td>0</td>\n",
       "      <td>0.03102</td>\n",
       "      <td>0.03102</td>\n",
       "      <td>0.03102</td>\n",
       "      <td>1.00000</td>\n",
       "    </tr>\n",
       "    <tr>\n",
       "      <th>1</th>\n",
       "      <td>8</td>\n",
       "      <td>0.02601</td>\n",
       "      <td>0.05703</td>\n",
       "      <td>0.05703</td>\n",
       "      <td>1.00000</td>\n",
       "    </tr>\n",
       "    <tr>\n",
       "      <th>2</th>\n",
       "      <td>39</td>\n",
       "      <td>0.01232</td>\n",
       "      <td>0.06480</td>\n",
       "      <td>0.06480</td>\n",
       "      <td>1.00000</td>\n",
       "    </tr>\n",
       "    <tr>\n",
       "      <th>3</th>\n",
       "      <td>45</td>\n",
       "      <td>0.00000</td>\n",
       "      <td>0.06480</td>\n",
       "      <td>0.07058</td>\n",
       "      <td>0.91811</td>\n",
       "    </tr>\n",
       "    <tr>\n",
       "      <th>4</th>\n",
       "      <td>12</td>\n",
       "      <td>0.00000</td>\n",
       "      <td>0.06480</td>\n",
       "      <td>0.07544</td>\n",
       "      <td>0.85896</td>\n",
       "    </tr>\n",
       "    <tr>\n",
       "      <th>5</th>\n",
       "      <td>28</td>\n",
       "      <td>0.00000</td>\n",
       "      <td>0.06480</td>\n",
       "      <td>0.07544</td>\n",
       "      <td>0.85896</td>\n",
       "    </tr>\n",
       "    <tr>\n",
       "      <th>6</th>\n",
       "      <td>21</td>\n",
       "      <td>0.01156</td>\n",
       "      <td>0.06892</td>\n",
       "      <td>0.07544</td>\n",
       "      <td>0.91357</td>\n",
       "    </tr>\n",
       "    <tr>\n",
       "      <th>7</th>\n",
       "      <td>43</td>\n",
       "      <td>0.00000</td>\n",
       "      <td>0.06892</td>\n",
       "      <td>0.07544</td>\n",
       "      <td>0.91357</td>\n",
       "    </tr>\n",
       "    <tr>\n",
       "      <th>8</th>\n",
       "      <td>27</td>\n",
       "      <td>0.01129</td>\n",
       "      <td>0.07248</td>\n",
       "      <td>0.07544</td>\n",
       "      <td>0.96076</td>\n",
       "    </tr>\n",
       "    <tr>\n",
       "      <th>9</th>\n",
       "      <td>50</td>\n",
       "      <td>0.00000</td>\n",
       "      <td>0.07248</td>\n",
       "      <td>0.07544</td>\n",
       "      <td>0.96076</td>\n",
       "    </tr>\n",
       "  </tbody>\n",
       "</table>\n",
       "</div>"
      ],
      "text/plain": [
       "   doc#  relevance      DCG     IDCG     NDCG\n",
       "0     0    0.03102  0.03102  0.03102  1.00000\n",
       "1     8    0.02601  0.05703  0.05703  1.00000\n",
       "2    39    0.01232  0.06480  0.06480  1.00000\n",
       "3    45    0.00000  0.06480  0.07058  0.91811\n",
       "4    12    0.00000  0.06480  0.07544  0.85896\n",
       "5    28    0.00000  0.06480  0.07544  0.85896\n",
       "6    21    0.01156  0.06892  0.07544  0.91357\n",
       "7    43    0.00000  0.06892  0.07544  0.91357\n",
       "8    27    0.01129  0.07248  0.07544  0.96076\n",
       "9    50    0.00000  0.07248  0.07544  0.96076"
      ]
     },
     "execution_count": 38,
     "metadata": {},
     "output_type": "execute_result"
    }
   ],
   "source": [
    "# 'Crime' category, Relevant documents counts: 5 randomly selected\n",
    "crime_ndcg = score_ndcg(matched_crime_movie_list, crime_relevant2)\n",
    "crime_ndcg"
   ]
  }
 ],
 "metadata": {
  "kernelspec": {
   "display_name": "Python 3 (ipykernel)",
   "language": "python",
   "name": "python3"
  },
  "language_info": {
   "codemirror_mode": {
    "name": "ipython",
    "version": 3
   },
   "file_extension": ".py",
   "mimetype": "text/x-python",
   "name": "python",
   "nbconvert_exporter": "python",
   "pygments_lexer": "ipython3",
   "version": "3.8.8"
  }
 },
 "nbformat": 4,
 "nbformat_minor": 5
}
